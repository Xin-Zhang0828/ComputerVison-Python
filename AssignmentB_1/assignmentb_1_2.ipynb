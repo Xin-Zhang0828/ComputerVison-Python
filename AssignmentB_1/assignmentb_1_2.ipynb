{
 "cells": [
  {
   "cell_type": "markdown",
   "metadata": {},
   "source": [
    "# 0. Import Dependencies"
   ]
  },
  {
   "cell_type": "code",
   "execution_count": 1,
   "metadata": {},
   "outputs": [],
   "source": [
    "from __future__ import print_function\n",
    "import torch\n",
    "import torch.nn as nn\n",
    "import torch.nn.functional as F\n",
    "import torch.optim as optim\n",
    "from torchvision import datasets, transforms\n",
    "import matplotlib.pyplot as plt\n",
    "\n",
    "import pandas as pd\n",
    "import numpy as np\n",
    "import scipy\n",
    "import matplotlib.pyplot as plt\n",
    "\n",
    "import torchvision.models as models\n",
    "from ptflops import get_model_complexity_info"
   ]
  },
  {
   "cell_type": "markdown",
   "metadata": {},
   "source": [
    "# 1. MNIST classification "
   ]
  },
  {
   "cell_type": "markdown",
   "metadata": {},
   "source": [
    "main references:\n",
    "\n",
    "     https://juejin.im/entry/5a6463a86fb9a01ca5609228\n",
    "     https://github.com/Sylar257/My-data-science-tool-kit/blob/458a96239a11145377710b90b455e8a81a365e7e/145_PyTorch_Tricks.ipynb\n",
    "     https://github.com/sovrasov/flops-counter.pytorch"
   ]
  },
  {
   "cell_type": "markdown",
   "metadata": {},
   "source": [
    "e) Download file YourEmail_in.csv from the course drive. File contains 5x5 array of integers X. Manualy compute valid convolution\n",
    "![title](img/math.png)\n",
    "of w and X and submit output in file named YourEmail_out.csv (note the difference between convolution and cross-correlation, see https://en.wikipedia.org/wiki/Convolution).\n",
    "![title](img/matrix.png)"
   ]
  },
  {
   "cell_type": "code",
   "execution_count": 2,
   "metadata": {},
   "outputs": [
    {
     "data": {
      "text/html": [
       "<div>\n",
       "<style scoped>\n",
       "    .dataframe tbody tr th:only-of-type {\n",
       "        vertical-align: middle;\n",
       "    }\n",
       "\n",
       "    .dataframe tbody tr th {\n",
       "        vertical-align: top;\n",
       "    }\n",
       "\n",
       "    .dataframe thead th {\n",
       "        text-align: right;\n",
       "    }\n",
       "</style>\n",
       "<table border=\"1\" class=\"dataframe\">\n",
       "  <thead>\n",
       "    <tr style=\"text-align: right;\">\n",
       "      <th></th>\n",
       "      <th>214</th>\n",
       "      <th>54</th>\n",
       "      <th>89</th>\n",
       "      <th>143</th>\n",
       "      <th>169</th>\n",
       "    </tr>\n",
       "  </thead>\n",
       "  <tbody>\n",
       "    <tr>\n",
       "      <td>0</td>\n",
       "      <td>4</td>\n",
       "      <td>38</td>\n",
       "      <td>72</td>\n",
       "      <td>87</td>\n",
       "      <td>74</td>\n",
       "    </tr>\n",
       "    <tr>\n",
       "      <td>1</td>\n",
       "      <td>66</td>\n",
       "      <td>90</td>\n",
       "      <td>88</td>\n",
       "      <td>104</td>\n",
       "      <td>242</td>\n",
       "    </tr>\n",
       "    <tr>\n",
       "      <td>2</td>\n",
       "      <td>103</td>\n",
       "      <td>210</td>\n",
       "      <td>51</td>\n",
       "      <td>141</td>\n",
       "      <td>145</td>\n",
       "    </tr>\n",
       "    <tr>\n",
       "      <td>3</td>\n",
       "      <td>76</td>\n",
       "      <td>179</td>\n",
       "      <td>19</td>\n",
       "      <td>211</td>\n",
       "      <td>80</td>\n",
       "    </tr>\n",
       "  </tbody>\n",
       "</table>\n",
       "</div>"
      ],
      "text/plain": [
       "   214   54  89  143  169\n",
       "0    4   38  72   87   74\n",
       "1   66   90  88  104  242\n",
       "2  103  210  51  141  145\n",
       "3   76  179  19  211   80"
      ]
     },
     "execution_count": 2,
     "metadata": {},
     "output_type": "execute_result"
    }
   ],
   "source": [
    "csv1=pd.read_csv('XZHANG6@TCD.IE_in.csv')\n",
    "csv1.head(5)"
   ]
  },
  {
   "cell_type": "code",
   "execution_count": 3,
   "metadata": {},
   "outputs": [],
   "source": [
    "input_data=[[214,54,89,143,169],\n",
    "                 [4,38,72,87,74],\n",
    "                 [66,90,88,104,242],\n",
    "                 [103,210,51,141,145],\n",
    "                 [76,179,19,211,80]]\n",
    "\n",
    "weights_data=[[ 1, 0, 1],\n",
    "                     [0, 0, 0],\n",
    "                     [ -1,0, -1]]"
   ]
  },
  {
   "cell_type": "code",
   "execution_count": 4,
   "metadata": {},
   "outputs": [
    {
     "name": "stdout",
     "output_type": "stream",
     "text": [
      "[[-1, 0, -1], [0, 0, 0], [1, 0, 1]]\n"
     ]
    }
   ],
   "source": [
    "weights_data1=weights_data[::-1]\n",
    "print(weights_data1)"
   ]
  },
  {
   "cell_type": "code",
   "execution_count": 5,
   "metadata": {},
   "outputs": [],
   "source": [
    "def compute_conv(fm,kernel):\n",
    "    h,w=fm.shape\n",
    "    k,k=kernel.shape \n",
    "    r=int(k/2)\n",
    "    #define the map after no padding\n",
    "    padding_fm=np.zeros([h,w],np.int)\n",
    "    #Remain the calculating output\n",
    "    rs=np.zeros([h-2,w-2],np.float32)\n",
    "    #Assign the input result to the specified area, that is, the remaining area except 4 boundaries\n",
    "    padding_fm[0:h,0:w]=fm \n",
    "    #Traversing the area centered on each point\n",
    "    for i in range(1,h-1):\n",
    "        for j in range(1,w-1): \n",
    "            #Take out the k*k area centered on the current point\n",
    "            roi=padding_fm[i-r:i+r+1,j-r:j+r+1]\n",
    "            #Calculate the convolution of the current point, multiply after k*k points\n",
    "            rs[i-1][j-1]=np.sum(roi*kernel)\n",
    " \n",
    "    return rs"
   ]
  },
  {
   "cell_type": "code",
   "execution_count": 6,
   "metadata": {},
   "outputs": [],
   "source": [
    "def my_conv2d(input,weights):\n",
    "    #shape=[h,w]\n",
    "    h,w=input.shape\n",
    "    #shape=[k,k]\n",
    "    k,k=weights.shape\n",
    "    outputs=np.zeros([h-2,w-2],np.int)\n",
    "    f_map=input\n",
    "    w=weights\n",
    "    rs =compute_conv(f_map,w)\n",
    "    outputs=outputs+rs   \n",
    "\n",
    "    return outputs"
   ]
  },
  {
   "cell_type": "code",
   "execution_count": 7,
   "metadata": {},
   "outputs": [
    {
     "name": "stdout",
     "output_type": "stream",
     "text": [
      "[[-149.   -3.   72.]\n",
      " [  78.  226.   50.]\n",
      " [ -59.  196. -231.]]\n"
     ]
    }
   ],
   "source": [
    "def main():  \n",
    "    input = np.asarray(input_data,np.int)\n",
    "    weights =  np.asarray(weights_data1,np.int) \n",
    "    rs = my_conv2d(input,weights) \n",
    "    print(rs) \n",
    "    final1=pd.DataFrame(rs)\n",
    "    #final1.drop([0], axis=0)\n",
    "    final1.to_csv('XZHANG6@TCD.IE_out22.csv',index=None,header=None)\n",
    "\n",
    "if __name__=='__main__':\n",
    "    main() "
   ]
  },
  {
   "cell_type": "markdown",
   "metadata": {},
   "source": [
    "f) Download file YourEmail_network.csv from the course drive. File contains network definiton in the following format:\n",
    "\n",
    "     i) Convolution, N, K – convolution layer with N feature maps and KxK filters\n",
    "\n",
    "     ii) Maxpool, K – max pooling layer KxK pooling window\n",
    "\n",
    "     iii) Fully-connected, N – fully connected layer with N neurons\n",
    "\n",
    "All convolutions use same padding that preserves input feature size. All convolutional and fully-connected layers use bias. The network is applied on 32x32 RGB images (3 input channels). Calculate the number of parameters and the number of FLOPS of this network and submit them in YourEmail_params.csv each of the 2 values in separate row (number of parameters in the first row)."
   ]
  },
  {
   "cell_type": "code",
   "execution_count": 8,
   "metadata": {},
   "outputs": [
    {
     "data": {
      "text/html": [
       "<div>\n",
       "<style scoped>\n",
       "    .dataframe tbody tr th:only-of-type {\n",
       "        vertical-align: middle;\n",
       "    }\n",
       "\n",
       "    .dataframe tbody tr th {\n",
       "        vertical-align: top;\n",
       "    }\n",
       "\n",
       "    .dataframe thead th {\n",
       "        text-align: right;\n",
       "    }\n",
       "</style>\n",
       "<table border=\"1\" class=\"dataframe\">\n",
       "  <thead>\n",
       "    <tr style=\"text-align: right;\">\n",
       "      <th></th>\n",
       "      <th>convolution</th>\n",
       "      <th>24</th>\n",
       "      <th>5</th>\n",
       "    </tr>\n",
       "  </thead>\n",
       "  <tbody>\n",
       "    <tr>\n",
       "      <td>0</td>\n",
       "      <td>convolution</td>\n",
       "      <td>60</td>\n",
       "      <td>3.0</td>\n",
       "    </tr>\n",
       "    <tr>\n",
       "      <td>1</td>\n",
       "      <td>maxpool</td>\n",
       "      <td>2</td>\n",
       "      <td>NaN</td>\n",
       "    </tr>\n",
       "    <tr>\n",
       "      <td>2</td>\n",
       "      <td>convolution</td>\n",
       "      <td>72</td>\n",
       "      <td>3.0</td>\n",
       "    </tr>\n",
       "    <tr>\n",
       "      <td>3</td>\n",
       "      <td>maxpool</td>\n",
       "      <td>4</td>\n",
       "      <td>NaN</td>\n",
       "    </tr>\n",
       "    <tr>\n",
       "      <td>4</td>\n",
       "      <td>fully-connected</td>\n",
       "      <td>160</td>\n",
       "      <td>NaN</td>\n",
       "    </tr>\n",
       "    <tr>\n",
       "      <td>5</td>\n",
       "      <td>fully-connected</td>\n",
       "      <td>10</td>\n",
       "      <td>NaN</td>\n",
       "    </tr>\n",
       "  </tbody>\n",
       "</table>\n",
       "</div>"
      ],
      "text/plain": [
       "       convolution   24    5\n",
       "0      convolution   60  3.0\n",
       "1          maxpool    2  NaN\n",
       "2      convolution   72  3.0\n",
       "3          maxpool    4  NaN\n",
       "4  fully-connected  160  NaN\n",
       "5  fully-connected   10  NaN"
      ]
     },
     "execution_count": 8,
     "metadata": {},
     "output_type": "execute_result"
    }
   ],
   "source": [
    "csv2=pd.read_csv('XZHANG6@TCD.IE_network.csv')\n",
    "csv2.head(10)"
   ]
  },
  {
   "cell_type": "code",
   "execution_count": 9,
   "metadata": {},
   "outputs": [],
   "source": [
    "class CNN4(nn.Module):\n",
    "    def __init__(self):\n",
    "        super(CNN4, self).__init__()\n",
    "        self.conv1 = nn.Conv2d(in_channels=3, out_channels=24, \n",
    "                               kernel_size=5, stride=1, padding=2)\n",
    "        self.conv2 = nn.Conv2d(in_channels=24, out_channels=60, \n",
    "                               kernel_size=3, stride=1, padding=1)\n",
    "        self.pool1 = nn.MaxPool2d(2)\n",
    "        self.conv3 = nn.Conv2d(in_channels=60, out_channels=72, \n",
    "                               kernel_size=3, stride=1, padding=1)\n",
    "        self.pool2 = nn.MaxPool2d(4)\n",
    "        self.fc1 = nn.Linear(in_features=1152, out_features=160)\n",
    "        self.fc2 = nn.Linear(in_features=160, out_features=10)\n",
    "\n",
    "        nn.init.kaiming_normal_(self.conv1.weight, nonlinearity='relu')\n",
    "        nn.init.kaiming_normal_(self.conv2.weight, nonlinearity='relu')\n",
    "        nn.init.kaiming_normal_(self.conv3.weight, nonlinearity='relu')\n",
    "        nn.init.kaiming_normal_(self.fc1.weight, nonlinearity='relu')\n",
    "        nn.init.kaiming_normal_(self.fc2.weight, nonlinearity='linear')\n",
    "\n",
    "    def forward(self, x):\n",
    "        x = self.conv1(x)\n",
    "        x = F.relu(x)\n",
    "        x = self.conv2(x)\n",
    "        x = F.relu(x)\n",
    "        x = self.pool1(x)\n",
    "        x = self.conv3(x)\n",
    "        x = F.relu(x)\n",
    "        x = self.pool2(x)\n",
    "\n",
    "        x = x.view(-1, 1152)\n",
    "        x = self.fc1(x)\n",
    "        x = F.relu(x)\n",
    "        x = self.fc2(x)\n",
    "        \n",
    "        return F.log_softmax(x, dim=1)"
   ]
  },
  {
   "cell_type": "code",
   "execution_count": 10,
   "metadata": {},
   "outputs": [
    {
     "name": "stdout",
     "output_type": "stream",
     "text": [
      "CNN4(\n",
      "  0.025 GMac, 100.000% MACs, \n",
      "  (conv1): Conv2d(0.002 GMac, 7.343% MACs, 3, 24, kernel_size=(5, 5), stride=(1, 1), padding=(2, 2))\n",
      "  (conv2): Conv2d(0.013 GMac, 52.412% MACs, 24, 60, kernel_size=(3, 3), stride=(1, 1), padding=(1, 1))\n",
      "  (pool1): MaxPool2d(0.0 GMac, 0.242% MACs, kernel_size=2, stride=2, padding=0, dilation=1, ceil_mode=False)\n",
      "  (conv3): Conv2d(0.01 GMac, 39.200% MACs, 60, 72, kernel_size=(3, 3), stride=(1, 1), padding=(1, 1))\n",
      "  (pool2): MaxPool2d(0.0 GMac, 0.072% MACs, kernel_size=4, stride=4, padding=0, dilation=1, ceil_mode=False)\n",
      "  (fc1): Linear(0.0 GMac, 0.725% MACs, in_features=1152, out_features=160, bias=True)\n",
      "  (fc2): Linear(0.0 GMac, 0.006% MACs, in_features=160, out_features=10, bias=True)\n",
      ")\n",
      "Params: 239.89 k\n",
      "Flop: 0.03 GMac\n"
     ]
    }
   ],
   "source": [
    "use_cuda = torch.cuda.is_available()\n",
    "device = torch.device(\"cuda\" if use_cuda else \"cpu\")\n",
    "model = CNN4().to(device)\n",
    "flop,params=get_model_complexity_info(model, (3,32,32))   \n",
    "print(f'Params: {params}')\n",
    "print(f'Flop: {flop}')"
   ]
  },
  {
   "cell_type": "code",
   "execution_count": 11,
   "metadata": {},
   "outputs": [],
   "source": [
    "final2=pd.DataFrame(data={\n",
    "        'parameters':'239.89k','FLOPS':'0.03GMac',},index=[0])\n",
    "final2.to_csv('XZHANG6@TCD.IE_params.csv',index=None)"
   ]
  }
 ],
 "metadata": {
  "kernelspec": {
   "display_name": "Python 3",
   "language": "python",
   "name": "python3"
  },
  "language_info": {
   "codemirror_mode": {
    "name": "ipython",
    "version": 3
   },
   "file_extension": ".py",
   "mimetype": "text/x-python",
   "name": "python",
   "nbconvert_exporter": "python",
   "pygments_lexer": "ipython3",
   "version": "3.7.3"
  }
 },
 "nbformat": 4,
 "nbformat_minor": 2
}
